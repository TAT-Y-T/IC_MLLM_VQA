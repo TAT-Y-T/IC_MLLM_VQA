{
 "cells": [
  {
   "cell_type": "code",
   "execution_count": 1,
   "id": "7704e090",
   "metadata": {},
   "outputs": [],
   "source": [
    "import re\n",
    "import pandas as pd\n",
    "from tqdm import tqdm\n",
    "from sklearn.metrics import accuracy_score, f1_score\n",
    "from nltk.translate.bleu_score import sentence_bleu, SmoothingFunction\n",
    "from rouge import Rouge\n",
    "from sklearn.feature_extraction.text import CountVectorizer\n",
    "from transformers import AutoProcessor\n",
    "from datasets import load_dataset\n",
    "from transformers import AutoModelForVision2Seq, AutoProcessor\n",
    "import torch"
   ]
  },
  {
   "cell_type": "code",
   "execution_count": 3,
   "id": "c9c05881",
   "metadata": {},
   "outputs": [],
   "source": [
    "import os\n",
    "import json\n",
    "from datasets import load_dataset\n",
    "\n",
    "def build_filtered_dataset(dataset_name='derek-thomas/ScienceQA',\n",
    "                           split='validation',\n",
    "                           keep_grades='1-6',\n",
    "                           image_save_dir='val_filtered_images1-6'):\n",
    "    \"\"\"\n",
    "    构建按年级和图像存在性过滤的数据集，并保存图像到本地文件夹。\n",
    "\n",
    "    返回:\n",
    "        List[Dict]: 可写入 JSON 的样本列表，每个样本包含图像路径。\n",
    "    \"\"\"\n",
    "    os.makedirs(image_save_dir, exist_ok=True)\n",
    "\n",
    "    def is_grade_allowed(grade_str):\n",
    "        if keep_grades is None:\n",
    "            return True\n",
    "        try:\n",
    "            grade_num = int(grade_str.replace(\"grade\", \"\"))\n",
    "            if keep_grades == \"1-6\":\n",
    "                return 1 <= grade_num <= 6\n",
    "            elif keep_grades == \"7-12\":\n",
    "                return 7 <= grade_num <= 12\n",
    "        except:\n",
    "            return False\n",
    "        return False\n",
    "\n",
    "    data = load_dataset(dataset_name, split=split)\n",
    "    dataset = []\n",
    "\n",
    "    for i, sample in enumerate(data):\n",
    "        try:\n",
    "            if sample.get('question') is None or sample.get('image') is None:\n",
    "                continue\n",
    "            if not is_grade_allowed(sample.get(\"grade\", \"\")):\n",
    "                continue\n",
    "\n",
    "            # 保存图像到本地\n",
    "            image = sample[\"image\"].convert(\"RGB\")\n",
    "            image_filename = f\"{image_save_dir}/img_{i}.jpg\"\n",
    "            image.save(image_filename)\n",
    "\n",
    "            # 构建样本\n",
    "            solution = sample.get(\"solution\", \"\")\n",
    "            lecture = sample.get(\"lecture\", \"\")\n",
    "            solution_lecture = f\"The solution and lecture are :{solution}\\n\\n{lecture}\".strip()\n",
    "\n",
    "            dataset.append({\n",
    "                \"image\": image_filename,  # ✅ 写入路径，而不是 Image 对象\n",
    "                \"question\": sample[\"question\"],\n",
    "                \"choices\": sample[\"choices\"],\n",
    "                \"hint\": sample[\"hint\"],\n",
    "                \"answer\": sample[\"answer\"],\n",
    "                \"solution_lecture\": solution_lecture,\n",
    "                \"grade\": sample[\"grade\"],\n",
    "            })\n",
    "\n",
    "        except Exception as e:\n",
    "            print(f\"跳过第 {i} 个样本，错误：{e}\")\n",
    "            continue\n",
    "\n",
    "    return dataset\n",
    "\n"
   ]
  },
  {
   "cell_type": "code",
   "execution_count": null,
   "id": "829ba360",
   "metadata": {},
   "outputs": [],
   "source": [
    "# dataset = build_filtered_dataset(dataset_name='derek-thomas/ScienceQA',\n",
    "#                                  split='validation',\n",
    "#                                  keep_grades='1-6',\n",
    "#                                  image_save_dir='val_filtered_images1-6')\n"
   ]
  },
  {
   "cell_type": "code",
   "execution_count": null,
   "id": "c3c58e5b",
   "metadata": {},
   "outputs": [],
   "source": [
    "# with open(\"val_1-6.json\", \"w\", encoding=\"utf-8\") as f:\n",
    "#     json.dump(dataset, f, ensure_ascii=False, indent=2)"
   ]
  },
  {
   "cell_type": "code",
   "execution_count": 6,
   "id": "8ff218d2",
   "metadata": {},
   "outputs": [],
   "source": [
    "import json\n",
    "from PIL import Image\n",
    "\n",
    "def build_message(sample):\n",
    "    content = []\n",
    "    \n",
    "    if sample['image'] is not None:\n",
    "        image = Image.open(sample['image']).convert(\"RGB\")\n",
    "        content.append({\"type\": \"image\", \"image\": image})\n",
    "    \n",
    "    # 基础信息构造\n",
    "    question_text = f\"[Question]: {sample['question']}\\n\"\n",
    "    question_text += \"[Choices]: \" + \" \".join(\n",
    "        [f\"{chr(65 + idx)}. {choice}\" for idx, choice in enumerate(sample['choices'])]\n",
    "    ) + \"\\n\"\n",
    "\n",
    "    # 模型输出\n",
    "    model_output = sample.get(\"model_output\", \"\")\n",
    "    question_text += f\"[Model Output]: {model_output}\\n\"\n",
    "\n",
    "    # 正确答案\n",
    "    if isinstance(sample.get(\"answer\"), int):\n",
    "        correct_letter = chr(65 + sample[\"answer\"])\n",
    "        question_text += f\"[Correct Answer]: {correct_letter}\\n\"\n",
    "    else:\n",
    "        question_text += \"[Correct Answer]: \\n\"\n",
    "\n",
    "    # 参考解释\n",
    "    question_text += f\"[Reference Explanation]: {sample.get('solution_lecture', '')}\\n\"\n",
    "\n",
    "    # 评分提示\n",
    "    question_text += (\n",
    "        \"Please first state the correct answer in the format:\\n\"\n",
    "        \"The correct answer is: **[A/B/C/D]. [Answer Text]**\\n\\n\"\n",
    "        \"Then, provide a step-by-step explanation of your reasoning with clarity and logical coherence.\"\n",
    "    )\n",
    "\n",
    "    content.append({\"type\": \"text\", \"text\": question_text})\n",
    "    return [{\"role\": \"user\", \"content\": content}]\n",
    "\n"
   ]
  },
  {
   "cell_type": "code",
   "execution_count": 7,
   "id": "8f8c805e",
   "metadata": {},
   "outputs": [],
   "source": [
    "json_path = \"val_1-6.json\"  # 或你的路径 train_0.json\n",
    "with open(json_path, \"r\", encoding=\"utf-8\") as f:\n",
    "    samples = json.load(f)\n",
    "message = build_message(samples[0])\n",
    "test_dataset = [build_message(sample) for sample in samples]"
   ]
  },
  {
   "cell_type": "code",
   "execution_count": 11,
   "id": "5d7bca2b",
   "metadata": {},
   "outputs": [
    {
     "name": "stdout",
     "output_type": "stream",
     "text": [
      "[{'role': 'user', 'content': [{'type': 'image', 'image': <PIL.Image.Image image mode=RGB size=606x87 at 0x7F607D26F010>}, {'type': 'text', 'text': '[Question]: Think about the magnetic force between the magnets in each pair. Which of the following statements is true?\\n[Choices]: A. The magnetic force is stronger in Pair 2. B. The magnetic force is stronger in Pair 1. C. The strength of the magnetic force is the same in both pairs.\\n[Model Output]: \\n[Correct Answer]: A\\n[Reference Explanation]: The solution and lecture are :Distance affects the strength of the magnetic force. When magnets are closer together, the magnetic force between them is stronger.\\nThe magnets in Pair 2 are closer together than the magnets in Pair 1. So, the magnetic force is stronger in Pair 2 than in Pair 1.\\n\\nMagnets can pull or push on each other without touching. When magnets attract, they pull together. When magnets repel, they push apart.\\nThese pulls and pushes between magnets are called magnetic forces. The stronger the magnetic force between two magnets, the more strongly the magnets attract or repel each other.\\nYou can change the strength of a magnetic force between two magnets by changing the distance between them. The magnetic force is stronger when the magnets are closer together.\\nPlease first state the correct answer in the format:\\nThe correct answer is: **[A/B/C/D]. [Answer Text]**\\n\\nThen, provide a step-by-step explanation of your reasoning with clarity and logical coherence.'}]}]\n",
      "<PIL.Image.Image image mode=RGB size=606x87 at 0x7F607D26F010>\n"
     ]
    },
    {
     "data": {
      "image/jpeg": "[encoded data removed]",
      "image/png": "[encoded data removed]",
      "text/plain": [
       "<PIL.Image.Image image mode=RGB size=606x87>"
      ]
     },
     "metadata": {},
     "output_type": "display_data"
    }
   ],
   "source": [
    "message = build_message(samples[100])\n",
    "print(message)\n",
    "print(message[0]['content'][0]['image'])  # 显示图像\n",
    "message[0]['content'][0]['image'].show()  # 显示图像"
   ]
  },
  {
   "cell_type": "code",
   "execution_count": 12,
   "id": "05c80467",
   "metadata": {},
   "outputs": [
    {
     "name": "stdout",
     "output_type": "stream",
     "text": [
      "Using device: cuda\n"
     ]
    },
    {
     "data": {
      "application/vnd.jupyter.widget-view+json": {
       "model_id": "1a34196616e7405ab45f154242827b7d",
       "version_major": 2,
       "version_minor": 0
      },
      "text/plain": [
       "Loading checkpoint shards:   0%|          | 0/5 [00:00<?, ?it/s]"
      ]
     },
     "metadata": {},
     "output_type": "display_data"
    },
    {
     "name": "stderr",
     "output_type": "stream",
     "text": [
      "Using a slow image processor as `use_fast` is unset and a slow processor was saved with this model. `use_fast=True` will be the default behavior in v4.52, even if the model was saved with a slow processor. This will result in minor differences in outputs. You'll still be able to use a slow processor with `use_fast=False`.\n"
     ]
    }
   ],
   "source": [
    "device = torch.device(\"cuda\" if torch.cuda.is_available() else \"cpu\")\n",
    "print(\"Using device:\", device)\n",
    "\n",
    "# 加载模型和处理器\n",
    "model = AutoModelForVision2Seq.from_pretrained(\n",
    "    \"Qwen/Qwen2.5-VL-7B-Instruct\",\n",
    "    device_map={\"\": device},\n",
    "    torch_dtype=torch.float16 if torch.cuda.is_available() else torch.float32\n",
    ")\n",
    "processor = AutoProcessor.from_pretrained(\"Qwen/Qwen2.5-VL-7B-Instruct\")"
   ]
  },
  {
   "cell_type": "code",
   "execution_count": 17,
   "id": "8f699ed1",
   "metadata": {},
   "outputs": [
    {
     "name": "stderr",
     "output_type": "stream",
     "text": [
      "100%|██████████| 1481/1481 [3:23:44<00:00,  8.25s/it]  \n"
     ]
    }
   ],
   "source": [
    "import json\n",
    "from tqdm import tqdm\n",
    "import torch\n",
    "\n",
    "results = []\n",
    "\n",
    "for sample in tqdm(test_dataset):\n",
    "\n",
    "    # 构造输入\n",
    "    text = processor.apply_chat_template(sample, tokenize=False, add_generation_prompt=True)\n",
    "    image_inputs = sample[0]['content'][0]['image']\n",
    "\n",
    "    # 推理\n",
    "    inputs = processor(text=[text], images=image_inputs, return_tensors=\"pt\", padding=True).to(device)\n",
    "    generated_ids = model.generate(**inputs, max_new_tokens=512)\n",
    "    output = processor.batch_decode(generated_ids[:, inputs.input_ids.shape[-1]:], skip_special_tokens=True)[0]\n",
    "\n",
    "    # 只保存输出\n",
    "    results.append({\n",
    "        \"id\": sample[0].get(\"id\", str(image_inputs)),\n",
    "        \"model_out\": output\n",
    "    })\n",
    "\n",
    "# 保存到新的 JSON 文件\n",
    "with open(\"model_outputs_only_val.json\", \"w\", encoding=\"utf-8\") as f:\n",
    "    json.dump(results, f, ensure_ascii=False, indent=2)\n",
    "\n"
   ]
  },
  {
   "cell_type": "code",
   "execution_count": 8,
   "id": "6d531035",
   "metadata": {},
   "outputs": [
    {
     "data": {
      "text/plain": [
       "\"The correct answer is: **A. black rockfish**. \\n\\nHere's the step-by-step reasoning:\\n\\n1. **Identify the starting point**: Phytoplankton is the starting point in the food web diagram.\\n\\n2. **Follow the arrows**: Arrows indicate the direction of matter movement from one organism to another.\\n\\n3. **Trace the path for black rockfish**:\\n   - Phytoplankton -> zooplankton -> black rockfish\\n\\n4. **Verify the path for sea otter**:\\n   - Phytoplankton -> zooplankton -> sea otter (but this path involves zooplankton, which is not directly connected to the sea otter in the diagram)\\n\\n5. **Conclusion**: The only path that leads from phytoplankton to an organism that appears in the diagram is through the black rockfish. Therefore, the black rockfish contains matter that was once part of the phytoplankton.\""
      ]
     },
     "execution_count": 8,
     "metadata": {},
     "output_type": "execute_result"
    }
   ],
   "source": [
    "output"
   ]
  }
 ],
 "metadata": {
  "kernelspec": {
   "display_name": "base",
   "language": "python",
   "name": "python3"
  },
  "language_info": {
   "codemirror_mode": {
    "name": "ipython",
    "version": 3
   },
   "file_extension": ".py",
   "mimetype": "text/x-python",
   "name": "python",
   "nbconvert_exporter": "python",
   "pygments_lexer": "ipython3",
   "version": "3.10.11"
  }
 },
 "nbformat": 4,
 "nbformat_minor": 5
}
