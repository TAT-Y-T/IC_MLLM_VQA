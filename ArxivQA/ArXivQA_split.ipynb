{
 "cells": [
  {
   "cell_type": "code",
   "execution_count": 14,
   "id": "da2cd9b2",
   "metadata": {},
   "outputs": [
    {
     "name": "stdout",
     "output_type": "stream",
     "text": [
      "✅ 数据划分完成，输出目录：split_result\n",
      "训练集大小: 1600\n",
      "验证集大小: 200\n",
      "Zero-Shot 测试集大小: 200\n"
     ]
    }
   ],
   "source": [
    "import json\n",
    "import random\n",
    "from collections import defaultdict\n",
    "import os\n",
    "\n",
    "# ======= 用户自定义配置区域 =======\n",
    "json_path = 'arxivqa.jsonl'                # 输入数据路径（支持 .json or .jsonl）\n",
    "train_cats = ['physics', 'cs']             # 训练和验证用的两个分类\n",
    "zeroshot_cat = 'physics'                  # Zero-Shot 测试的分类\n",
    "output_dir = 'split_result'        # 输出目录\n",
    "seed = 42                                  # 随机种子\n",
    "max_samples_per_class = 1000               # 每个训练/验证类别最大样本数\n",
    "max_zeroshot_samples = 200                # Zero-shot 分类最大样本数\n",
    "# ===================================\n",
    "\n",
    "def extract_category(example):\n",
    "    return example['id'].split('-')[0]\n",
    "\n",
    "def load_json_or_jsonl(path):\n",
    "    with open(path, 'r', encoding='utf-8') as f:\n",
    "        first_line = f.readline()\n",
    "        f.seek(0)\n",
    "        if first_line.strip().startswith('{'):\n",
    "            return [json.loads(line.strip()) for line in f if line.strip()]\n",
    "        else:\n",
    "            return json.load(f)\n",
    "\n",
    "def split_data(data, train_cats, zeroshot_cat, seed=42, max_per_class=None, max_zero=None):\n",
    "    random.seed(seed)\n",
    "    categorized = defaultdict(list)\n",
    "\n",
    "    for item in data:\n",
    "        cat = extract_category(item)\n",
    "        categorized[cat].append(item)\n",
    "\n",
    "    train_data = []\n",
    "    val_data = []\n",
    "    test_data = []\n",
    "\n",
    "    for cat in train_cats:\n",
    "        items = categorized[cat]\n",
    "        random.shuffle(items)\n",
    "        if max_per_class is not None:\n",
    "            items = items[:max_per_class]\n",
    "        n = len(items)\n",
    "        train_end = int(0.8 * n)\n",
    "        val_end = int(0.9 * n)\n",
    "        train_data.extend(items[:train_end])\n",
    "        val_data.extend(items[train_end:val_end])\n",
    "\n",
    "    # Zero-shot 测试数据（也限制最大数量）\n",
    "    test_items = categorized[zeroshot_cat]\n",
    "    random.shuffle(test_items)\n",
    "    if max_zero is not None:\n",
    "        test_items = test_items[:max_zero]\n",
    "    test_data = test_items\n",
    "\n",
    "    return train_data, val_data, test_data\n",
    "\n",
    "def save_as_jsonl(data, path):\n",
    "    with open(path, 'w', encoding='utf-8') as f:\n",
    "        for item in data:\n",
    "            f.write(json.dumps(item, ensure_ascii=False) + '\\n')\n",
    "\n",
    "def main():\n",
    "    data = load_json_or_jsonl(json_path)\n",
    "    train_data, val_data, test_data = split_data(\n",
    "        data,\n",
    "        train_cats,\n",
    "        zeroshot_cat,\n",
    "        seed=seed,\n",
    "        max_per_class=max_samples_per_class,\n",
    "        max_zero=max_zeroshot_samples\n",
    "    )\n",
    "\n",
    "    os.makedirs(output_dir, exist_ok=True)\n",
    "\n",
    "    save_as_jsonl(train_data, os.path.join(output_dir, 'train.jsonl'))\n",
    "    save_as_jsonl(val_data, os.path.join(output_dir, 'val.jsonl'))\n",
    "    save_as_jsonl(test_data, os.path.join(output_dir, 'test_zeroshot.jsonl'))\n",
    "\n",
    "    print(f\"✅ 数据划分完成，输出目录：{output_dir}\")\n",
    "    print(f\"训练集大小: {len(train_data)}\")\n",
    "    print(f\"验证集大小: {len(val_data)}\")\n",
    "    print(f\"Zero-Shot 测试集大小: {len(test_data)}\")\n",
    "\n",
    "if __name__ == '__main__':\n",
    "    main()\n"
   ]
  },
  {
   "cell_type": "code",
   "execution_count": 21,
   "id": "5fd56188",
   "metadata": {},
   "outputs": [
    {
     "name": "stdout",
     "output_type": "stream",
     "text": [
      "每个zero shot:\n",
      "\n",
      "physics        : 200\n",
      "\n",
      "每个train:\n",
      "\n",
      "physics        : 800\n",
      "cs             : 800\n",
      "每个val:\n",
      "\n",
      "physics        : 100\n",
      "cs             : 100\n"
     ]
    }
   ],
   "source": [
    "import json\n",
    "from collections import Counter\n",
    "\n",
    "\n",
    "def extract_category(example):\n",
    "    return example['id'].split('-')[0]\n",
    "\n",
    "def count_categories(jsonl_path):\n",
    "    counter = Counter()\n",
    "    with open(jsonl_path, 'r', encoding='utf-8') as f:\n",
    "        for line in f:\n",
    "            if line.strip():\n",
    "                item = json.loads(line)\n",
    "                category = extract_category(item)\n",
    "                counter[category] += 1\n",
    "    return counter\n",
    "\n",
    "if __name__ == \"__main__\":\n",
    "    jsonl_path1 = \"I:/ArxivQA/split_result/test_zeroshot.jsonl\"  # 替换成你的文件路径\n",
    "    counts1 = count_categories(jsonl_path1)\n",
    "    print(\"每个zero shot:\\n\")\n",
    "    for cat, count in counts1.items():\n",
    "        print(f\"{cat:15s}: {count}\\n\")\n",
    "    \n",
    "    jsonl_path2 = 'I:/ArxivQA\\split_result/train.jsonl'\n",
    "    counts2 = count_categories(jsonl_path2)\n",
    "    print(\"每个train:\\n\")\n",
    "    for cat, count in counts2.items():\n",
    "        print(f\"{cat:15s}: {count}\")\n",
    "        \n",
    "    jsonl_path3 = 'I:/ArxivQA\\split_result/val.jsonl'\n",
    "    counts3 = count_categories(jsonl_path3)\n",
    "    print(\"每个val:\\n\")\n",
    "    for cat, count in counts3.items():\n",
    "        print(f\"{cat:15s}: {count}\")\n",
    "        \n",
    "        "
   ]
  },
  {
   "cell_type": "code",
   "execution_count": 26,
   "id": "d5a5878b",
   "metadata": {},
   "outputs": [
    {
     "data": {
      "text/plain": [
       "200"
      ]
     },
     "execution_count": 26,
     "metadata": {},
     "output_type": "execute_result"
    }
   ],
   "source": [
    "with open(\"I:/ArxivQA/split_result/test_zeroshot.jsonl\", 'r') as fr:\n",
    "  arxiv_qa = [ json.loads(line.strip()) for line in fr]\n",
    "len(arxiv_qa)"
   ]
  },
  {
   "cell_type": "code",
   "execution_count": 28,
   "id": "2e35b05f",
   "metadata": {},
   "outputs": [],
   "source": [
    "with open(\"I:/ArxivQA/split_result/test_zeroshot.jsonl\", 'r') as fr:\n",
    "  arxiv_qa = [ json.loads(line.strip()) for line in fr]\n",
    "  \n",
    "test_dataset = []\n",
    "for i in range(len(arxiv_qa)):\n",
    "    sample = arxiv_qa[i]\n",
    "    try:\n",
    "        if sample['question'] is None:\n",
    "            print(f\"第 {i} 个样本没有问题，跳过\")\n",
    "            continue\n",
    "\n",
    "        test_dataset.append({\n",
    "            'id':sample['id'],\n",
    "            \"image\": sample['image'], \n",
    "            \"question\": sample[\"question\"],\n",
    "            \"choices\": sample[\"options\"],\n",
    "            \"answer\": sample[\"label\"],\n",
    "            \"solution\": sample[\"rationale\"]\n",
    "        })\n",
    "    except Exception as e:\n",
    "        print(f\"跳过第 {i} 个样本，错误：{e}\")\n",
    "        continue"
   ]
  },
  {
   "cell_type": "code",
   "execution_count": 29,
   "id": "fd20aeee",
   "metadata": {},
   "outputs": [
    {
     "data": {
      "text/plain": [
       "{'id': 'physics-40887',\n",
       " 'image': 'images/1904.13123_0.jpg',\n",
       " 'question': 'Which computational method consistently estimates the energy closest to the FCI benchmark across all C-H bond lengths for the \\\\( ^1\\\\Sigma^+ \\\\) state?',\n",
       " 'choices': ['EOM-CCSD',\n",
       "  'EOM-pCCD-LCCSD(HF)',\n",
       "  'EOM-pCCD-LCCSD(opt)',\n",
       "  'All methods estimate equally close to FCI',\n",
       "  '## Question 2'],\n",
       " 'answer': 'C. EOM-pCCD-LCCSD(opt)',\n",
       " 'solution': 'In the figure for the \\\\( ^1\\\\Sigma^+ \\\\) state, the EOM-pCCD-LCCSD(opt) data points are consistently nearest to the FCI dashed line across the range of C-H bond lengths, indicating that this method provides the closest estimates to the FCI benchmark.'}"
      ]
     },
     "execution_count": 29,
     "metadata": {},
     "output_type": "execute_result"
    }
   ],
   "source": [
    "test_dataset[1]"
   ]
  },
  {
   "cell_type": "code",
   "execution_count": 1,
   "id": "2aa33851",
   "metadata": {},
   "outputs": [
    {
     "name": "stdout",
     "output_type": "stream",
     "text": [
      "✅ 已复制 1933 张图片到：using_image\n"
     ]
    }
   ],
   "source": [
    "import os\n",
    "import json\n",
    "import shutil\n",
    "\n",
    "# ======= 用户配置区域 =======\n",
    "jsonl_files = [\n",
    "    \"split_result/train.jsonl\",\n",
    "    \"split_result/val.jsonl\",\n",
    "    \"split_result/test_zeroshot.jsonl\"\n",
    "]  # 你的三个jsonl路径\n",
    "\n",
    "image_root = '.'              # 原始图片所在的根目录（如 images/ 在这个目录下）\n",
    "output_dir = 'using_image'     # 新建图片保存目录\n",
    "# ============================\n",
    "\n",
    "def collect_image_paths(jsonl_paths):\n",
    "    image_paths = set()\n",
    "    for path in jsonl_paths:\n",
    "        with open(path, 'r', encoding='utf-8') as f:\n",
    "            for line in f:\n",
    "                if not line.strip(): continue\n",
    "                data = json.loads(line)\n",
    "                image_path = data.get(\"image\")\n",
    "                if image_path:\n",
    "                    image_paths.add(image_path)\n",
    "    return sorted(image_paths)\n",
    "\n",
    "def copy_images(image_paths, src_root, dst_dir):\n",
    "    os.makedirs(dst_dir, exist_ok=True)\n",
    "    missing = []\n",
    "\n",
    "    for rel_path in image_paths:\n",
    "        src_path = os.path.join(src_root, rel_path)\n",
    "        dst_path = os.path.join(dst_dir, os.path.basename(rel_path))\n",
    "\n",
    "        if os.path.exists(src_path):\n",
    "            shutil.copy2(src_path, dst_path)\n",
    "        else:\n",
    "            missing.append(rel_path)\n",
    "\n",
    "    print(f\"✅ 已复制 {len(image_paths) - len(missing)} 张图片到：{dst_dir}\")\n",
    "    if missing:\n",
    "        print(f\"⚠️ 有 {len(missing)} 张图片未找到:\")\n",
    "        for m in missing[:5]:\n",
    "            print(f\" - {m}\")\n",
    "        if len(missing) > 5:\n",
    "            print(\"...\")\n",
    "\n",
    "def main():\n",
    "    all_image_paths = collect_image_paths(jsonl_files)\n",
    "    copy_images(all_image_paths, image_root, output_dir)\n",
    "\n",
    "if __name__ == '__main__':\n",
    "    main()\n"
   ]
  }
 ],
 "metadata": {
  "kernelspec": {
   "display_name": "base",
   "language": "python",
   "name": "python3"
  },
  "language_info": {
   "codemirror_mode": {
    "name": "ipython",
    "version": 3
   },
   "file_extension": ".py",
   "mimetype": "text/x-python",
   "name": "python",
   "nbconvert_exporter": "python",
   "pygments_lexer": "ipython3",
   "version": "3.9.7"
  }
 },
 "nbformat": 4,
 "nbformat_minor": 5
}
